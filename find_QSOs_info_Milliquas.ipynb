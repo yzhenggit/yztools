{
 "cells": [
  {
   "cell_type": "code",
   "execution_count": 1,
   "metadata": {},
   "outputs": [],
   "source": [
    "from astropy.table import Table \n",
    "import numpy as np "
   ]
  },
  {
   "cell_type": "code",
   "execution_count": 2,
   "metadata": {},
   "outputs": [],
   "source": [
    "tb = Table.read('/Users/Yong/Dropbox/databucket/milliquas_v5.2_galex_jb032219.fits', format='fits')"
   ]
  },
  {
   "cell_type": "code",
   "execution_count": 3,
   "metadata": {},
   "outputs": [],
   "source": [
    "qso = 'HE 1255-0437'\n",
    "qra = 194.6291\n",
    "qdec = -4.8969\n",
    "\n",
    "deg = 0.01"
   ]
  },
  {
   "cell_type": "code",
   "execution_count": 4,
   "metadata": {},
   "outputs": [
    {
     "data": {
      "text/html": [
       "<i>Table length=1</i>\n",
       "<table id=\"table4812409376\" class=\"table-striped table-bordered table-condensed\">\n",
       "<thead><tr><th>ra</th><th>dec</th><th>name</th><th>Vmag</th><th>Rmag</th><th>z</th><th>cite</th><th>zcite</th><th>fuv</th><th>errfuv</th><th>nuv</th><th>errnuv</th></tr></thead>\n",
       "<thead><tr><th>float64</th><th>float64</th><th>bytes27</th><th>float64</th><th>float64</th><th>float64</th><th>bytes7</th><th>bytes7</th><th>float64</th><th>float64</th><th>float64</th><th>float64</th></tr></thead>\n",
       "<tr><td>194.6291108</td><td>-4.8969167</td><td>HE 1255-0437</td><td>15.95</td><td>17.79</td><td>0.172</td><td>HMQ</td><td>HMQ</td><td>17.386812210083008</td><td>0.04018636792898178</td><td>17.366594314575195</td><td>0.022174153476953506</td></tr>\n",
       "</table>"
      ],
      "text/plain": [
       "<Table length=1>\n",
       "     ra        dec     ...        nuv                errnuv       \n",
       "  float64    float64   ...      float64             float64       \n",
       "----------- ---------- ... ------------------ --------------------\n",
       "194.6291108 -4.8969167 ... 17.366594314575195 0.022174153476953506"
      ]
     },
     "execution_count": 4,
     "metadata": {},
     "output_type": "execute_result"
    }
   ],
   "source": [
    "ind = np.all([tb['ra']>qra-deg, tb['ra']<qra+deg, \n",
    "              tb['dec']>qdec-deg, tb['dec']<qdec+deg], axis=0)\n",
    "tb[ind]"
   ]
  },
  {
   "cell_type": "code",
   "execution_count": 5,
   "metadata": {},
   "outputs": [],
   "source": [
    "from astropy.coordinates import SkyCoord\n",
    "import astropy.units as u"
   ]
  },
  {
   "cell_type": "code",
   "execution_count": 6,
   "metadata": {},
   "outputs": [],
   "source": [
    "coord = SkyCoord(ra=205.039419, dec=41.245175, unit=(u.deg, u.deg), frame='icrs')"
   ]
  },
  {
   "cell_type": "code",
   "execution_count": 7,
   "metadata": {},
   "outputs": [
    {
     "data": {
      "text/plain": [
       "(hms_tuple(h=13.0, m=40.0, s=9.460560000008655),\n",
       " dms_tuple(d=41.0, m=14.0, s=42.630000000011705))"
      ]
     },
     "execution_count": 7,
     "metadata": {},
     "output_type": "execute_result"
    }
   ],
   "source": [
    "coord.icrs.ra.hms, coord.icrs.dec.dms"
   ]
  },
  {
   "cell_type": "code",
   "execution_count": null,
   "metadata": {},
   "outputs": [],
   "source": []
  }
 ],
 "metadata": {
  "kernelspec": {
   "display_name": "Python 3",
   "language": "python",
   "name": "python3"
  },
  "language_info": {
   "codemirror_mode": {
    "name": "ipython",
    "version": 3
   },
   "file_extension": ".py",
   "mimetype": "text/x-python",
   "name": "python",
   "nbconvert_exporter": "python",
   "pygments_lexer": "ipython3",
   "version": "3.6.8"
  }
 },
 "nbformat": 4,
 "nbformat_minor": 4
}
