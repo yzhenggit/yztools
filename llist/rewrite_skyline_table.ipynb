{
 "cells": [
  {
   "cell_type": "code",
   "execution_count": 1,
   "id": "d8d34475",
   "metadata": {},
   "outputs": [],
   "source": [
    "from astropy.table import Table\n",
    "from pypeit.core.wave import airtovac\n",
    "import astropy.units as u"
   ]
  },
  {
   "cell_type": "markdown",
   "id": "d7f79505",
   "metadata": {},
   "source": [
    "Other optical lines"
   ]
  },
  {
   "cell_type": "code",
   "execution_count": 2,
   "id": "7d0daa43",
   "metadata": {},
   "outputs": [],
   "source": [
    "tb = Table.read('/Users/Yong/Dropbox/GitRepo/yztools/optical_linelist.dat', format='ascii')"
   ]
  },
  {
   "cell_type": "code",
   "execution_count": 3,
   "id": "6f9c09c6",
   "metadata": {},
   "outputs": [],
   "source": [
    "wave_air = tb['wrest(air)']\n",
    "wave_vac = airtovac(wave_air*u.AA).value \n",
    "\n",
    "newtb = open('/Users/Yong/Dropbox/GitRepo/yztools/optical_linelist_updated.dat', 'w')\n",
    "newtb.write('    line    wave(air/A) wave(vac/A) f flag  nistlink\\n')\n",
    "for i in range(len(tb)): \n",
    "    newtb.write('%10s  %10.2f  %10.2f %2s  %2s   %s\\n'%(tb['line'][i], wave_air[i], wave_vac[i], \n",
    "                                                        tb['f'][i], tb['flag'][i], tb['nistlink'][i]))\n",
    "newtb.close()"
   ]
  },
  {
   "cell_type": "markdown",
   "id": "cd6af688",
   "metadata": {},
   "source": [
    "OH lines"
   ]
  },
  {
   "cell_type": "code",
   "execution_count": 2,
   "id": "f6cf0815",
   "metadata": {},
   "outputs": [],
   "source": [
    "# tb = Table.read('/Users/Yong/Dropbox/GitRepo/yztools/Osterbrock97_Keck_HIRES_Sky_Lines/oh.txt', format='ascii')\n",
    "tb = Table.read('/Users/Yong/Dropbox/GitRepo/yztools/Osterbrock97_Keck_HIRES_Sky_Lines/oh_trimmed.txt', format='ascii')"
   ]
  },
  {
   "cell_type": "code",
   "execution_count": 4,
   "id": "26abb248",
   "metadata": {},
   "outputs": [],
   "source": [
    "wave_air = tb['col1']\n",
    "wave_vac = airtovac(wave_air*u.AA).value \n",
    "\n",
    "newtb = open('/Users/Yong/Dropbox/GitRepo/yztools/Osterbrock97_Keck_HIRES_Sky_Lines/oh_wvac_trimmed.txt', 'w')\n",
    "newtb.write('wave(air/A)  wave(vac/A)  line\\n')\n",
    "for i in range(len(tb)): \n",
    "    # newtb.write('%10.3f  %10.3f  %5s  %10s\\n'%(wave_air[i], wave_vac[i], tb['col2'][i], tb['col3'][i]))\n",
    "    newtb.write('%10.3f  %10.3f  %20s\\n'%(wave_air[i], wave_vac[i], tb['col2'][i]))\n",
    "newtb.close()"
   ]
  },
  {
   "cell_type": "code",
   "execution_count": null,
   "id": "34434650",
   "metadata": {},
   "outputs": [],
   "source": []
  },
  {
   "cell_type": "code",
   "execution_count": null,
   "id": "de29cd63",
   "metadata": {},
   "outputs": [],
   "source": []
  }
 ],
 "metadata": {
  "kernelspec": {
   "display_name": "Python 3",
   "language": "python",
   "name": "python3"
  },
  "language_info": {
   "codemirror_mode": {
    "name": "ipython",
    "version": 3
   },
   "file_extension": ".py",
   "mimetype": "text/x-python",
   "name": "python",
   "nbconvert_exporter": "python",
   "pygments_lexer": "ipython3",
   "version": "3.9.4"
  }
 },
 "nbformat": 4,
 "nbformat_minor": 5
}
