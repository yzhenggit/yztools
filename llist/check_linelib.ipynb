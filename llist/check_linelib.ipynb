{
 "cells": [
  {
   "cell_type": "code",
   "execution_count": 3,
   "metadata": {
    "collapsed": false
   },
   "outputs": [],
   "source": [
    "%matplotlib inline\n",
    "import astropy.io.fits as fits\n",
    "from astropy.table import Table\n",
    "import numpy as np"
   ]
  },
  {
   "cell_type": "code",
   "execution_count": 5,
   "metadata": {
    "collapsed": false
   },
   "outputs": [],
   "source": [
    "linelib = Table.read('files/xidl_all_lin.fits', format='fits')"
   ]
  },
  {
   "cell_type": "code",
   "execution_count": 9,
   "metadata": {
    "collapsed": false
   },
   "outputs": [
    {
     "name": "stdout",
     "output_type": "stream",
     "text": [
      "SiII 889  \n",
      "SiII 989  \n",
      "SiII 1020 \n",
      "SiII 1190 \n",
      "SiII 1193 \n",
      "SiII* 1197\n",
      "SiIII 1206\n",
      "SiII 1260 \n",
      "SiII* 1264\n",
      "SiII* 1265\n",
      "SiII 1304 \n",
      "SiII* 1309\n",
      "SiII 1526 \n",
      "SiII* 1533\n",
      "SiII 1808 \n",
      "SiII* 1816\n",
      "SiII* 1817\n",
      "SiIII 1892\n",
      "SiII 2335 \n"
     ]
    }
   ],
   "source": [
    "for i in linelib['ION']:\n",
    "    if 'SiII' in i: \n",
    "        print(i)"
   ]
  },
  {
   "cell_type": "code",
   "execution_count": null,
   "metadata": {
    "collapsed": true
   },
   "outputs": [],
   "source": []
  }
 ],
 "metadata": {
  "anaconda-cloud": {},
  "kernelspec": {
   "display_name": "Python [default]",
   "language": "python",
   "name": "python3"
  },
  "language_info": {
   "codemirror_mode": {
    "name": "ipython",
    "version": 3
   },
   "file_extension": ".py",
   "mimetype": "text/x-python",
   "name": "python",
   "nbconvert_exporter": "python",
   "pygments_lexer": "ipython3",
   "version": "3.5.2"
  }
 },
 "nbformat": 4,
 "nbformat_minor": 1
}
